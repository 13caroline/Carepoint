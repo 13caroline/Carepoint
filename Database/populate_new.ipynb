{
 "cells": [
  {
   "cell_type": "code",
   "execution_count": null,
   "id": "ba4476be",
   "metadata": {},
   "outputs": [],
   "source": [
    "teste = \"INSERT INTO User(idUser,name,password,email,phoneNumber,sex,type,createdAt,lastActivity,active,idLocation)VALUES(1,'Susan Catapano','ACL14TFECE46K31Q','xcmnkidkhage@outlook.com','+351 936876457','F',2,'2019-05-28 11:05:23','2020-09-04 09:15:05',0,3);\"\n",
    "\n",
    "x = teste.split(\",\")\n",
    "\n",
    "print(x[len(x)-1])"
   ]
  },
  {
   "cell_type": "code",
   "execution_count": null,
   "id": "ad39afc2",
   "metadata": {},
   "outputs": [],
   "source": [
    "teste = \"INSERT INTO User(idUser,name,password,email,phoneNumber,sex,type,createdAt,lastActivity,active,idLocation)VALUES(1,'Susan Catapano','ACL14TFECE46K31Q','xcmnkidkhage@outlook.com','+351 936876457','F',2,'2019-05-28 11:05:23','2020-09-04 09:15:05',0,76);\"\n",
    "\n",
    "x = teste.split(\",\")\n",
    "\n",
    "print(x[len(x)-1])"
   ]
  },
  {
   "cell_type": "code",
   "execution_count": 5,
   "id": "536a164a",
   "metadata": {},
   "outputs": [
    {
     "name": "stdout",
     "output_type": "stream",
     "text": [
      "763);\n"
     ]
    }
   ],
   "source": [
    "teste = \"INSERT INTO User(idUser,name,password,email,phoneNumber,sex,type,createdAt,lastActivity,active,idLocation)VALUES(1,'Susan Catapano','ACL14TFECE46K31Q','xcmnkidkhage@outlook.com','+351 936876457','F',2,'2019-05-28 11:05:23','2020-09-04 09:15:05',0,763);\"\n",
    "\n",
    "x = teste.split(\",\")\n",
    "\n",
    "print(x[len(x)-1])"
   ]
  },
  {
   "cell_type": "code",
   "execution_count": 3,
   "id": "b42c9d7a",
   "metadata": {},
   "outputs": [],
   "source": [
    "from random import randint\n",
    "import random\n",
    "\n",
    "def create_povoamento():\n",
    "    file = open(\"povoamento.sql\", \"r\",encoding=\"utf-8\")\n",
    "    file2 = open(\"povoamento3.sql\", \"a\")\n",
    "    \n",
    "   \n",
    "    for row in file:\n",
    "        x = row.split(\",\")\n",
    "        if x[0] == \"INSERT INTO User(idUser\":\n",
    "            \n",
    "            string = row.replace(x[len(x)-1],str(randint(1,20)) + \");\\n\")\n",
    "            file2.write(string)\n",
    "        else:\n",
    "            file2.write(row)\n",
    "    \n",
    "    file.close()\n",
    "    file2.close() "
   ]
  },
  {
   "cell_type": "code",
   "execution_count": 4,
   "id": "1991af6c",
   "metadata": {},
   "outputs": [],
   "source": [
    "create_povoamento()"
   ]
  },
  {
   "cell_type": "code",
   "execution_count": null,
   "id": "998a5a74",
   "metadata": {},
   "outputs": [],
   "source": []
  }
 ],
 "metadata": {
  "kernelspec": {
   "display_name": "Python 3 (ipykernel)",
   "language": "python",
   "name": "python3"
  },
  "language_info": {
   "codemirror_mode": {
    "name": "ipython",
    "version": 3
   },
   "file_extension": ".py",
   "mimetype": "text/x-python",
   "name": "python",
   "nbconvert_exporter": "python",
   "pygments_lexer": "ipython3",
   "version": "3.9.7"
  }
 },
 "nbformat": 4,
 "nbformat_minor": 5
}
