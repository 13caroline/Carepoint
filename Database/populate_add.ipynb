{
 "cells": [
  {
   "cell_type": "code",
   "execution_count": 1,
   "id": "a4b6b2ea",
   "metadata": {},
   "outputs": [],
   "source": [
    "#INSERT INTO PI.Add(idAdd,description,idCompany)VALUES(x1, x2,...);"
   ]
  },
  {
   "cell_type": "code",
   "execution_count": 1,
   "id": "8bab3855",
   "metadata": {},
   "outputs": [],
   "source": [
    "from random import randint\n",
    "\n",
    "def generate_aux(length):\n",
    "\n",
    "    chars = \"abcdefghijlmnopqrstuvxz \"\n",
    "    from os import urandom\n",
    "\n",
    "    return \"\".join(chars[c % len(chars)] for c in urandom(length))\n",
    "\n",
    "def generate_description():\n",
    "\n",
    "    num = randint(1,1600)\n",
    "\n",
    "    return generate_aux(num)"
   ]
  },
  {
   "cell_type": "code",
   "execution_count": 2,
   "id": "3ce89b87",
   "metadata": {},
   "outputs": [],
   "source": [
    "def get_companies():\n",
    "    file_user = open(\"user.sql\", \"r\")\n",
    "\n",
    "    companies = []\n",
    "    i = 0\n",
    "    for row in file_user:\n",
    "   \n",
    "        if i == 0:\n",
    "            i+=1\n",
    "        else:\n",
    "            x = row.split(\",\")\n",
    "            if x[2] == \"password\" and x[16] == '4':\n",
    "                y = x[10].split('(')\n",
    "                companies.append(y[1])\n",
    "\n",
    "    for i in companies:\n",
    "        print(i)\n",
    "        \n",
    "    file_user.close()\n",
    "    return companies"
   ]
  },
  {
   "cell_type": "code",
   "execution_count": 3,
   "id": "b42c9d7a",
   "metadata": {},
   "outputs": [],
   "source": [
    "def create_adds(file,companies):\n",
    "    j = 1\n",
    "    tamanho_companies= len(companies)\n",
    "    \n",
    "    while j < tamanho_companies + 1:\n",
    "        string = \"INSERT INTO PI.add(idAdd,description,idCompany)VALUES(\" + str(j) + \",'\"\n",
    "        string += generate_description() + \"',\"\n",
    "        \n",
    "        string += companies[j-1] + \");\\n\"\n",
    "        \n",
    "        file.write(string)\n",
    "        j+=1\n",
    "    \n",
    "    file.close()"
   ]
  },
  {
   "cell_type": "code",
   "execution_count": 4,
   "id": "1991af6c",
   "metadata": {},
   "outputs": [
    {
     "name": "stdout",
     "output_type": "stream",
     "text": [
      "151\n",
      "152\n",
      "153\n",
      "154\n",
      "155\n",
      "156\n",
      "157\n",
      "158\n",
      "159\n",
      "160\n",
      "161\n",
      "162\n",
      "163\n",
      "164\n",
      "165\n",
      "166\n",
      "167\n",
      "168\n",
      "169\n",
      "170\n",
      "171\n",
      "172\n",
      "173\n",
      "174\n",
      "175\n",
      "176\n",
      "177\n",
      "178\n",
      "179\n",
      "180\n",
      "181\n",
      "182\n",
      "183\n",
      "184\n",
      "185\n",
      "186\n",
      "187\n",
      "188\n",
      "189\n",
      "190\n",
      "191\n",
      "192\n",
      "193\n",
      "194\n",
      "195\n",
      "196\n",
      "197\n",
      "198\n",
      "199\n",
      "200\n"
     ]
    }
   ],
   "source": [
    "file = open(\"add.sql\", \"a\")\n",
    "file.write(\"USE PI;\\n\");\n",
    "\n",
    "#1 admin | 2 consumer | 3 sp | 4 company \n",
    "companies = get_companies()\n",
    "\n",
    "create_adds(file,companies)\n",
    "\n",
    "file.close()"
   ]
  },
  {
   "cell_type": "code",
   "execution_count": null,
   "id": "ca270094",
   "metadata": {},
   "outputs": [],
   "source": []
  }
 ],
 "metadata": {
  "kernelspec": {
   "display_name": "Python 3 (ipykernel)",
   "language": "python",
   "name": "python3"
  },
  "language_info": {
   "codemirror_mode": {
    "name": "ipython",
    "version": 3
   },
   "file_extension": ".py",
   "mimetype": "text/x-python",
   "name": "python",
   "nbconvert_exporter": "python",
   "pygments_lexer": "ipython3",
   "version": "3.9.7"
  }
 },
 "nbformat": 4,
 "nbformat_minor": 5
}
