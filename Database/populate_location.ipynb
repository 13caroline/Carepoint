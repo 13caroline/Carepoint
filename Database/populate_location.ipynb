{
 "cells": [
  {
   "cell_type": "code",
   "execution_count": null,
   "id": "fe55b297",
   "metadata": {},
   "outputs": [],
   "source": [
    "import pandas as pd\n",
    "import numpy as np\n",
    "import matplotlib.pyplot as plt\n",
    "import seaborn as sns\n",
    "%matplotlib inline"
   ]
  },
  {
   "cell_type": "code",
   "execution_count": null,
   "id": "895e9c8e",
   "metadata": {},
   "outputs": [],
   "source": [
    "data = pd.read_csv('List_of_cities_portugal.csv', sep = ',')\n",
    "data.head()"
   ]
  },
  {
   "cell_type": "code",
   "execution_count": null,
   "id": "aa09d8c3",
   "metadata": {},
   "outputs": [],
   "source": [
    "data.info()"
   ]
  },
  {
   "cell_type": "code",
   "execution_count": null,
   "id": "a4b6b2ea",
   "metadata": {},
   "outputs": [],
   "source": [
    "#INSERT INTO Location (idLocation, name, cordsX, cordsY) VALUES (x1, x2, x3, x4);"
   ]
  },
  {
   "cell_type": "code",
   "execution_count": 10,
   "id": "406f6744",
   "metadata": {},
   "outputs": [],
   "source": [
    "import csv\n",
    "i = 1\n",
    "f = open(\"location.sql\", \"a\")\n",
    "f.write(\"USE PI;\\n\");\n",
    "with open(\"List_of_cities_portugal.csv\", \"r\",encoding='utf8') as csv_file:\n",
    "    csv_reader = csv.DictReader(csv_file, delimiter=',')\n",
    "    for lines in csv_reader:\n",
    "        f.write(\"INSERT INTO Location(idLocation, name, cordsX, cordsY) VALUES (\" + str(i) + \",'\" + lines['name'] + \"','\" + str(lines['latitude']) + \"','\" + str(lines['longitude'])+ \"');\\n\")\n",
    "        i+=1\n",
    "    \n",
    "    f.close()"
   ]
  },
  {
   "cell_type": "code",
   "execution_count": null,
   "id": "18354123",
   "metadata": {},
   "outputs": [],
   "source": []
  }
 ],
 "metadata": {
  "kernelspec": {
   "display_name": "Python 3 (ipykernel)",
   "language": "python",
   "name": "python3"
  },
  "language_info": {
   "codemirror_mode": {
    "name": "ipython",
    "version": 3
   },
   "file_extension": ".py",
   "mimetype": "text/x-python",
   "name": "python",
   "nbconvert_exporter": "python",
   "pygments_lexer": "ipython3",
   "version": "3.9.7"
  }
 },
 "nbformat": 4,
 "nbformat_minor": 5
}
