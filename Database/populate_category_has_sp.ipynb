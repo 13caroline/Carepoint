{
 "cells": [
  {
   "cell_type": "code",
   "execution_count": 1,
   "id": "a4b6b2ea",
   "metadata": {},
   "outputs": [],
   "source": [
    "#INSERT INTO category_has_serviceprovider(price,experience,workSchedule,idCategory,idServiceProvider)VALUES(x1, x2,...);"
   ]
  },
  {
   "cell_type": "code",
   "execution_count": 2,
   "id": "d09f75d9",
   "metadata": {},
   "outputs": [],
   "source": [
    "from random import randint\n",
    "\n",
    "def generate_price():\n",
    "    \n",
    "    num = randint(0,5)\n",
    "    \n",
    "    if num < 2:\n",
    "        return \"NULL\"\n",
    "    \n",
    "    num = randint(0,99)\n",
    "    \n",
    "    if num < 10:\n",
    "        return str(randint(5,20)) + \".0\" + str(num)\n",
    "    else:\n",
    "        return str(randint(5,20)) + \".\" + str(num)"
   ]
  },
  {
   "cell_type": "code",
   "execution_count": 3,
   "id": "51e6356e",
   "metadata": {},
   "outputs": [],
   "source": [
    "def get_sps():\n",
    "    file_user = open(\"user.sql\", \"r\")\n",
    "\n",
    "    sp = []\n",
    "    i = 0\n",
    "    for row in file_user:\n",
    "   \n",
    "        if i == 0:\n",
    "            i+=1\n",
    "        else:\n",
    "            x = row.split(\",\")\n",
    "            if x[2] == \"password\" and x[16] == '3':\n",
    "                y = x[10].split('(')\n",
    "                sp.append(y[1])\n",
    "\n",
    "    for i in sp:\n",
    "        print(i)\n",
    "        \n",
    "    file_user.close()\n",
    "    return sp"
   ]
  },
  {
   "cell_type": "code",
   "execution_count": 4,
   "id": "74b79979",
   "metadata": {},
   "outputs": [],
   "source": [
    "def has_category(categories,category):\n",
    "    \n",
    "    for i in categories:\n",
    "        if i == category:\n",
    "            return \"TRUE\"\n",
    "    \n",
    "    return \"FALSE\""
   ]
  },
  {
   "cell_type": "code",
   "execution_count": 5,
   "id": "b5848e41",
   "metadata": {},
   "outputs": [],
   "source": [
    "def has_day(dias_escolhidos,dia):\n",
    "    \n",
    "    for i in dias_escolhidos:\n",
    "        if i == dia:\n",
    "            return \"TRUE\"\n",
    "    \n",
    "    return \"FALSE\""
   ]
  },
  {
   "cell_type": "code",
   "execution_count": 6,
   "id": "806bd395",
   "metadata": {},
   "outputs": [],
   "source": [
    "def has_date(dias_escolhidos,dia):\n",
    "    \n",
    "    for i in dias_escolhidos:\n",
    "        if i == dia:\n",
    "            return \"TRUE\"\n",
    "    \n",
    "    return \"FALSE\""
   ]
  },
  {
   "cell_type": "code",
   "execution_count": 16,
   "id": "b6e703b7",
   "metadata": {},
   "outputs": [],
   "source": [
    "from random import randint\n",
    "\n",
    "def create_work_schedule():\n",
    "    \n",
    "    dias = [\"2022-01-03\",\"2022-01-04\",\"2022-01-05\",\"2022-01-06\",\"2022-01-07\",\"2022-01-08\",\"2022-01-09\"]\n",
    "    horas = [\"00:00:00\",\"00:30:00\",\"01:00:00\",\"01:30:00\",\"02:00:00\",\"02:30:00\",\"03:00:00\",\"03:30:00\",\"04:00:00\",\"04:30:00\",\"05:00:00\", \"05:30:00\",\n",
    "            \"06:00:00\",\"06:30:00\",\"07:00:00\",\"07:30:00\",\"08:00:00\",\"08:30:00\",\"09:00:00\",\"09:30:00\",\"10:00:00\",\"10:30:00\",\"11:00:00\", \"11:30:00\",\n",
    "            \"12:00:00\",\"12:30:00\",\"13:00:00\",\"13:30:00\",\"14:00:00\",\"14:30:00\",\"15:00:00\",\"15:30:00\",\"16:00:00\",\"16:30:00\",\"17:00:00\", \"17:30:00\",\n",
    "            \"18:00:00\",\"18:30:00\",\"19:00:00\",\"19:30:00\",\"20:00:00\",\"20:30:00\",\"21:00:00\",\"21:30:00\",\"22:00:00\",\"22:30:00\",\"23:00:00\", \"23:30:00\"]\n",
    "    \n",
    "    num_dias = randint(0,7)\n",
    "    if num_dias == 0:\n",
    "        return \"{}\"\n",
    "    \n",
    "    j = 0\n",
    "    string_ws = \"{\"\n",
    "    dias_escolhidos = []\n",
    "    datas_escolhidas = []\n",
    "    \n",
    "    while j < num_dias:\n",
    "        rand_dia = randint(0,6)\n",
    "        \n",
    "        if has_day(dias_escolhidos, dias[rand_dia]) == \"FALSE\":\n",
    "            dias_escolhidos.append(dias[rand_dia])\n",
    "            dia = dias[rand_dia]\n",
    "            nr_horas = randint(1,20)\n",
    "    \n",
    "            hora = 0\n",
    "            while hora < nr_horas:\n",
    "                rand_hora = randint(0,47)\n",
    "                \n",
    "                if has_date(datas_escolhidas, dia + \" \" + horas[rand_hora]) == \"FALSE\":\n",
    "                    datas_escolhidas.append(dia + \" \" + horas[rand_hora])\n",
    "                    hora += 1\n",
    "                    string_ws += '\"' + dia + \" \" + horas[rand_hora] + '\"' + \" : \" + str(randint(0,1))\n",
    "                    if hora == nr_horas and j+1 == num_dias:\n",
    "                        string_ws += \"}\"\n",
    "                    else:\n",
    "                        string_ws += \",\"\n",
    "            j += 1\n",
    "            \n",
    "\n",
    "        \n",
    "    return string_ws"
   ]
  },
  {
   "cell_type": "code",
   "execution_count": 19,
   "id": "71f75511",
   "metadata": {},
   "outputs": [
    {
     "data": {
      "text/plain": [
       "'{\"2022-01-04 02:30:00\" : 1,\"2022-01-04 13:00:00\" : 0,\"2022-01-04 04:30:00\" : 1,\"2022-01-04 08:00:00\" : 1,\"2022-01-04 03:30:00\" : 1,\"2022-01-04 01:30:00\" : 0,\"2022-01-04 17:30:00\" : 1,\"2022-01-04 22:30:00\" : 0,\"2022-01-04 00:00:00\" : 0,\"2022-01-04 05:00:00\" : 0,\"2022-01-04 01:00:00\" : 1,\"2022-01-05 01:00:00\" : 0,\"2022-01-05 20:30:00\" : 0,\"2022-01-05 05:30:00\" : 1,\"2022-01-05 23:30:00\" : 1,\"2022-01-05 14:00:00\" : 1,\"2022-01-05 07:00:00\" : 0,\"2022-01-05 20:00:00\" : 0,\"2022-01-05 07:30:00\" : 1,\"2022-01-05 16:00:00\" : 0,\"2022-01-05 17:00:00\" : 0,\"2022-01-05 09:00:00\" : 1,\"2022-01-05 06:30:00\" : 1,\"2022-01-05 16:30:00\" : 1,\"2022-01-07 12:30:00\" : 0,\"2022-01-07 11:00:00\" : 0,\"2022-01-07 07:00:00\" : 0,\"2022-01-07 16:30:00\" : 1,\"2022-01-07 13:00:00\" : 0,\"2022-01-07 01:00:00\" : 1,\"2022-01-07 23:00:00\" : 1,\"2022-01-07 13:30:00\" : 1,\"2022-01-07 15:30:00\" : 1,\"2022-01-07 05:30:00\" : 0,\"2022-01-07 17:30:00\" : 0,\"2022-01-07 11:30:00\" : 0,\"2022-01-07 22:30:00\" : 1,\"2022-01-07 20:30:00\" : 1,\"2022-01-07 14:00:00\" : 0,\"2022-01-07 08:00:00\" : 0,\"2022-01-07 17:00:00\" : 0}'"
      ]
     },
     "execution_count": 19,
     "metadata": {},
     "output_type": "execute_result"
    }
   ],
   "source": [
    "create_work_schedule()"
   ]
  },
  {
   "cell_type": "code",
   "execution_count": null,
   "id": "b42c9d7a",
   "metadata": {},
   "outputs": [],
   "source": [
    "from random import randint\n",
    "\n",
    "def create_category_has_sp(file,sps):\n",
    "    \n",
    "    j = 1\n",
    "    tamanho_sps = len(sps)\n",
    "    \n",
    "    while j < tamanho_sps + 1:\n",
    "        \n",
    "        n_categories = randint(1,6)\n",
    "        categories = []\n",
    "        x = 0\n",
    "        experience = randint(0,15)\n",
    "        while x < n_categories:\n",
    "            category = randint(1,6)\n",
    "            has = has_category(categories,category)\n",
    "            if has == \"FALSE\":\n",
    "                categories.append(category)\n",
    "                x += 1\n",
    "                \n",
    "                string = \"INSERT INTO category_has_serviceprovider(price,experience,workSchedule,idCategory,idServiceProvider)VALUES(\"\n",
    "                price = generate_price()\n",
    "                if price == \"NULL\":\n",
    "                    string += price + \",\"\n",
    "                else:\n",
    "                    string += str(price) + \",\"\n",
    "                \n",
    "                string += str(experience) + \",'\"\n",
    "                string += create_work_schedule() + \"',\"\n",
    "                string += str(category) + \",\"\n",
    "                string += str(sps[j-1]) + \");\\n\"\n",
    "                file.write(string)\n",
    "                   \n",
    "        j+=1"
   ]
  },
  {
   "cell_type": "code",
   "execution_count": null,
   "id": "1991af6c",
   "metadata": {},
   "outputs": [],
   "source": [
    "file = open(\"category_has_sp.sql\", \"a\")\n",
    "file.write(\"USE PI;\\n\");\n",
    "\n",
    "#1 admin | 2 consumer | 3 sp | 4 company \n",
    "sps = get_sps()\n",
    "\n",
    "create_category_has_sp(file,sps)\n",
    "\n",
    "file.close()"
   ]
  },
  {
   "cell_type": "code",
   "execution_count": null,
   "id": "946a15d5",
   "metadata": {},
   "outputs": [],
   "source": []
  }
 ],
 "metadata": {
  "kernelspec": {
   "display_name": "Python 3 (ipykernel)",
   "language": "python",
   "name": "python3"
  },
  "language_info": {
   "codemirror_mode": {
    "name": "ipython",
    "version": 3
   },
   "file_extension": ".py",
   "mimetype": "text/x-python",
   "name": "python",
   "nbconvert_exporter": "python",
   "pygments_lexer": "ipython3",
   "version": "3.9.7"
  }
 },
 "nbformat": 4,
 "nbformat_minor": 5
}
