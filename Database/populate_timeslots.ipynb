{
 "cells": [
  {
   "cell_type": "code",
   "execution_count": 4,
   "id": "a4b6b2ea",
   "metadata": {},
   "outputs": [],
   "source": [
    "#INSERT INTO TimeSlots (idTimeSlots, day, begin, end) VALUES (x1, x2, x3, x4);"
   ]
  },
  {
   "cell_type": "code",
   "execution_count": 5,
   "id": "b4b4f5f4",
   "metadata": {},
   "outputs": [],
   "source": [
    "def make_timeslot(i,day):\n",
    "    i = i\n",
    "    j = 0\n",
    "    f = open(\"timeslots.sql\", \"a\")\n",
    "    \n",
    "    while j < 24:\n",
    "        if j < 9:\n",
    "            f.write(\"INSERT INTO TimeSlots(idTimeSlots, day, begin, end) VALUES (\" + str(i) + \",\" + day +\",'0\" + str(j)+ \":00:00','0\" + str(j)+ \":30:00');\\n\")\n",
    "            f.write(\"INSERT INTO TimeSlots(idTimeSlots, day, begin, end) VALUES (\" + str(i+1) + \",\" + day +\",'0\" + str(j) + \":30:00','0\" + str(j+1)+ \":00:00');\\n\")\n",
    "        elif j == 9:\n",
    "            f.write(\"INSERT INTO TimeSlots(idTimeSlots, day, begin, end) VALUES (\" + str(i) + \",\" + day +\",'0\" + str(j)+ \":00:00','0\" + str(j)+ \":30:00');\\n\")\n",
    "            f.write(\"INSERT INTO TimeSlots(idTimeSlots, day, begin, end) VALUES (\" + str(i+1) + \",\" + day +\",'0\" + str(j) + \":30:00','\" + str(j+1)+ \":00:00');\\n\")\n",
    "        elif j==23:\n",
    "            f.write(\"INSERT INTO TimeSlots(idTimeSlots, day, begin, end) VALUES (\" + str(i) + \",\" + day +\",'\" +str(j) + \":00:00','\" + str(j)+ \":30:00');\\n\")\n",
    "            f.write(\"INSERT INTO TimeSlots(idTimeSlots, day, begin, end) VALUES (\" + str(i+1) + \",\" + day +\",'\" + str(j) + \":30:00','00:00:00');\\n\")\n",
    "        else:\n",
    "            f.write(\"INSERT INTO TimeSlots(idTimeSlots, day, begin, end) VALUES (\" + str(i) + \",\" + day +\",'\" +str(j) + \":00:00','\" + str(j)+ \":30:00');\\n\")\n",
    "            f.write(\"INSERT INTO TimeSlots(idTimeSlots, day, begin, end) VALUES (\" + str(i+1) + \",\" + day +\",'\" + str(j) + \":30:00','\" + str(j+1)+ \":00:00');\\n\")\n",
    "        j+=1\n",
    "        i+=2\n",
    "    \n",
    "    f.close()"
   ]
  },
  {
   "cell_type": "code",
   "execution_count": 6,
   "id": "51e6356e",
   "metadata": {},
   "outputs": [],
   "source": [
    "import csv\n",
    "f = open(\"timeslots.sql\", \"a\")\n",
    "f.write(\"USE PI;\\n\");\n",
    "f.close()\n",
    "\n",
    "time = 48\n",
    "make_timeslot(1,\"'Segunda-feira'\")\n",
    "make_timeslot(1*time +1,\"'Terça-feira'\")\n",
    "make_timeslot(2*time +1,\"'Quarta-feira'\")\n",
    "make_timeslot(3*time +1,\"'Quinta-feira'\")\n",
    "make_timeslot(4*time +1,\"'Sexta-feira'\")\n",
    "make_timeslot(5*time +1,\"'Sábado'\")\n",
    "make_timeslot(6*time +1,\"'Domingo'\")"
   ]
  }
 ],
 "metadata": {
  "kernelspec": {
   "display_name": "Python 3 (ipykernel)",
   "language": "python",
   "name": "python3"
  },
  "language_info": {
   "codemirror_mode": {
    "name": "ipython",
    "version": 3
   },
   "file_extension": ".py",
   "mimetype": "text/x-python",
   "name": "python",
   "nbconvert_exporter": "python",
   "pygments_lexer": "ipython3",
   "version": "3.9.7"
  }
 },
 "nbformat": 4,
 "nbformat_minor": 5
}
