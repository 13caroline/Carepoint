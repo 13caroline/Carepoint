{
 "cells": [
  {
   "cell_type": "code",
   "execution_count": 1,
   "id": "b42c9d7a",
   "metadata": {},
   "outputs": [],
   "source": [
    "from random import randint\n",
    "import random\n",
    "\n",
    "def create_povoamento():\n",
    "    file = open(\"povoamento.sql\", encoding=\"utf-8\")\n",
    "    file2 = open(\"povoamento2.sql\", \"a\")\n",
    "    \n",
    "    comeco = \"INSERT INTO ServiceProvider(idSP,description,dateOfBirth,endSub,endSubVip,distance,qualifications,averageRating,workSchedule,occupiedSchedule,solidarity,\"\n",
    "   \n",
    "    for row in file:\n",
    "        \n",
    "        x = row.split(\",\")\n",
    "        if x[0] == \"INSERT INTO ServiceProvider(idSP\":\n",
    "            row = row.replace(\"INSERT INTO ServiceProvider(idSP,description,dateOfBirth,endSub,endSubVip,distance,qualifications,averageRating,workSchedule,occupiedSchedule,\",comeco)\n",
    "            string = row[:len(row)-4] +\",\"+str(randint(0,1)) + row[len(row)-4:]\n",
    "            file2.write(string)\n",
    "        else:\n",
    "            file2.write(row)\n",
    "    \n",
    "    file.close()\n",
    "    file2.close() "
   ]
  },
  {
   "cell_type": "code",
   "execution_count": 2,
   "id": "1991af6c",
   "metadata": {},
   "outputs": [],
   "source": [
    "create_povoamento()"
   ]
  },
  {
   "cell_type": "code",
   "execution_count": null,
   "id": "946a15d5",
   "metadata": {},
   "outputs": [],
   "source": []
  }
 ],
 "metadata": {
  "kernelspec": {
   "display_name": "Python 3 (ipykernel)",
   "language": "python",
   "name": "python3"
  },
  "language_info": {
   "codemirror_mode": {
    "name": "ipython",
    "version": 3
   },
   "file_extension": ".py",
   "mimetype": "text/x-python",
   "name": "python",
   "nbconvert_exporter": "python",
   "pygments_lexer": "ipython3",
   "version": "3.9.7"
  }
 },
 "nbformat": 4,
 "nbformat_minor": 5
}
